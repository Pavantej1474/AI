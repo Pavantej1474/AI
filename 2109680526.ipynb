{
 "cells": [
  {
   "cell_type": "code",
   "execution_count": 1,
   "metadata": {
    "colab": {
     "base_uri": "https://localhost:8080/"
    },
    "id": "TE5sTYsXMmct",
    "outputId": "d67b745c-b694-44d5-92b2-ba7d3b802825"
   },
   "outputs": [
    {
     "name": "stderr",
     "output_type": "stream",
     "text": [
      "C:\\Users\\raksh\\anaconda3\\lib\\site-packages\\scipy\\__init__.py:146: UserWarning: A NumPy version >=1.16.5 and <1.23.0 is required for this version of SciPy (detected version 1.26.4\n",
      "  warnings.warn(f\"A NumPy version >={np_minversion} and <{np_maxversion}\"\n"
     ]
    },
    {
     "name": "stdout",
     "output_type": "stream",
     "text": [
      "WARNING:tensorflow:From C:\\Users\\raksh\\anaconda3\\lib\\site-packages\\keras\\src\\losses.py:2976: The name tf.losses.sparse_softmax_cross_entropy is deprecated. Please use tf.compat.v1.losses.sparse_softmax_cross_entropy instead.\n",
      "\n",
      "WARNING:tensorflow:From C:\\Users\\raksh\\anaconda3\\lib\\site-packages\\tensorflow_probability\\python\\internal\\backend\\numpy\\_utils.py:48: The name tf.logging.TaskLevelStatusMessage is deprecated. Please use tf.compat.v1.logging.TaskLevelStatusMessage instead.\n",
      "\n",
      "WARNING:tensorflow:From C:\\Users\\raksh\\anaconda3\\lib\\site-packages\\tensorflow_probability\\python\\internal\\backend\\numpy\\_utils.py:48: The name tf.control_flow_v2_enabled is deprecated. Please use tf.compat.v1.control_flow_v2_enabled instead.\n",
      "\n",
      "WARNING:tensorflow:From C:\\Users\\raksh\\anaconda3\\lib\\site-packages\\tf_agents\\typing\\types.py:114: The name tf.train.Optimizer is deprecated. Please use tf.compat.v1.train.Optimizer instead.\n",
      "\n"
     ]
    }
   ],
   "source": [
    "import tensorflow as tf\n",
    "import tf_agents\n",
    "from tf_agents.bandits.environments import movielens_py_environment\n",
    "from tf_agents.environments import tf_py_environment\n",
    "from tf_agents.bandits.environments import environment_utilities\n",
    "from tf_agents.bandits.metrics import tf_metrics as tf_bandit_metrics\n",
    "from tf_agents.bandits.agents import lin_ucb_agent\n",
    "from tf_agents.bandits.agents import linear_thompson_sampling_agent as lin_ts_agent\n",
    "from tf_agents.networks import q_network\n",
    "from tf_agents.bandits.agents import neural_epsilon_greedy_agent as eps_greedy_agent\n",
    "from tf_agents.bandits.agents.examples.v2 import trainer\n",
    "from tf_agents.replay_buffers import tf_uniform_replay_buffer\n",
    "from tf_agents.drivers import driver\n",
    "from tf_agents.drivers import dynamic_step_driver\n",
    "from tf_agents.policies import random_tf_policy\n",
    "import functools\n",
    "import os\n",
    "import numpy as np\n",
    "from matplotlib import pyplot as plt"
   ]
  },
  {
   "cell_type": "code",
   "execution_count": 2,
   "metadata": {
    "id": "iwpoCR81e1ad"
   },
   "outputs": [],
   "source": [
    "BATCH_SIZE = 8\n",
    "TRAINING_LOOPS = 500\n",
    "STEPS_PER_LOOP = 2\n",
    "RANK_K = 20\n",
    "NUM_ACTIONS = 20\n",
    "\n",
    "data_path = 'u.data'"
   ]
  },
  {
   "cell_type": "code",
   "execution_count": 3,
   "metadata": {
    "id": "iCJiJxxMeus8"
   },
   "outputs": [],
   "source": [
    "env = movielens_py_environment.MovieLensPyEnvironment(\n",
    "        data_path,\n",
    "        RANK_K,\n",
    "        BATCH_SIZE,\n",
    "        num_movies=NUM_ACTIONS,\n",
    "        csv_delimiter='\\t')\n",
    "environment = tf_py_environment.TFPyEnvironment(env)"
   ]
  },
  {
   "cell_type": "code",
   "execution_count": 4,
   "metadata": {
    "id": "ScwEK6JOeqLM"
   },
   "outputs": [],
   "source": [
    "optimal_reward_fn = functools.partial(\n",
    "      environment_utilities.compute_optimal_reward_with_movielens_environment,\n",
    "      environment=environment)\n",
    "\n",
    "\n",
    "optimal_action_fn = functools.partial(\n",
    "      environment_utilities.compute_optimal_action_with_movielens_environment,\n",
    "      environment=environment)"
   ]
  },
  {
   "cell_type": "code",
   "execution_count": 5,
   "metadata": {
    "id": "o9ZOYyTHeln9"
   },
   "outputs": [],
   "source": [
    "AGENT_ALPHA = 10.0\n",
    "linucb = lin_ucb_agent.LinearUCBAgent(\n",
    "        time_step_spec=environment.time_step_spec(),\n",
    "        action_spec=environment.action_spec(),\n",
    "        tikhonov_weight=0.001,\n",
    "        alpha=AGENT_ALPHA,\n",
    "        dtype=tf.float32,\n",
    "        accepts_per_arm_features=False)"
   ]
  },
  {
   "cell_type": "code",
   "execution_count": 6,
   "metadata": {
    "id": "y5lYd5ncecO3"
   },
   "outputs": [],
   "source": [
    "lints = lin_ts_agent.LinearThompsonSamplingAgent(\n",
    "        time_step_spec=environment.time_step_spec(),\n",
    "        action_spec=environment.action_spec(),\n",
    "        dtype=tf.float32,\n",
    "        accepts_per_arm_features=False)"
   ]
  },
  {
   "cell_type": "code",
   "execution_count": 7,
   "metadata": {
    "id": "-yIoG3hveO7T"
   },
   "outputs": [],
   "source": [
    "EPSILON = 0.05\n",
    "LAYERS = (50, 50, 50)\n",
    "LR = 0.005\n",
    "\n",
    "network = q_network.QNetwork(\n",
    "          input_tensor_spec=environment.time_step_spec().observation,\n",
    "          action_spec=environment.action_spec(),\n",
    "          fc_layer_params=LAYERS)\n",
    "\n",
    "neureps = eps_greedy_agent.NeuralEpsilonGreedyAgent(\n",
    "        time_step_spec=environment.time_step_spec(),\n",
    "        action_spec=environment.action_spec(),\n",
    "        reward_network=network,\n",
    "        optimizer=tf.compat.v1.train.AdamOptimizer(learning_rate=LR),\n",
    "        epsilon=EPSILON,\n",
    "        emit_policy_info='predicted_rewards_mean',\n",
    "        info_fields_to_inherit_from_greedy=['predicted_rewards_mean'])"
   ]
  },
  {
   "cell_type": "code",
   "execution_count": 8,
   "metadata": {
    "id": "3rd3WbM8YKC-"
   },
   "outputs": [],
   "source": [
    "regret_metric = tf_bandit_metrics.RegretMetric(optimal_reward_fn)\n",
    "suboptimal_arms_metric = tf_bandit_metrics.SuboptimalArmsMetric(optimal_action_fn)"
   ]
  },
  {
   "cell_type": "code",
   "execution_count": 9,
   "metadata": {
    "id": "Eo8_Pb5LeLrP"
   },
   "outputs": [],
   "source": [
    "def train(agent):\n",
    "\n",
    "  if agent == 'LinUCB':\n",
    "    agent = linucb\n",
    "  elif agent == 'LinTS':\n",
    "    agent = lints\n",
    "  elif agent == 'NeurEps':\n",
    "    agent = neureps\n",
    "\n",
    "\n",
    "  replay_buffer = tf_uniform_replay_buffer.TFUniformReplayBuffer(\n",
    "    data_spec=agent.policy.trajectory_spec,\n",
    "    batch_size=BATCH_SIZE,\n",
    "    max_length=STEPS_PER_LOOP)\n",
    "\n",
    "  observers = [replay_buffer.add_batch, regret_metric]\n",
    "\n",
    "  driver = dynamic_step_driver.DynamicStepDriver(\n",
    "      env=environment,\n",
    "      policy=agent.collect_policy,\n",
    "      num_steps=STEPS_PER_LOOP * BATCH_SIZE,\n",
    "      observers=observers)\n",
    "\n",
    "  regret_values = []\n",
    "\n",
    "  for _ in range(TRAINING_LOOPS):\n",
    "    driver.run()\n",
    "    loss_info = agent.train(replay_buffer.gather_all())\n",
    "    replay_buffer.clear()\n",
    "    regret_values.append(regret_metric.result())\n",
    "\n",
    "  return regret_values, agent"
   ]
  },
  {
   "cell_type": "code",
   "execution_count": 10,
   "metadata": {
    "colab": {
     "base_uri": "https://localhost:8080/",
     "height": 364
    },
    "id": "86QsVmXrwGau",
    "outputId": "c1e5576a-7c5b-48aa-eb1a-f59386c440b2"
   },
   "outputs": [
    {
     "name": "stderr",
     "output_type": "stream",
     "text": [
      "WARNING:tensorflow:From <ipython-input-9-eb5acd4db2a6>:28: ReplayBuffer.gather_all (from tf_agents.replay_buffers.replay_buffer) is deprecated and will be removed in a future version.\n",
      "Instructions for updating:\n",
      "Use `as_dataset(..., single_deterministic_pass=True)` instead.\n"
     ]
    },
    {
     "data": {
      "text/plain": [
       "Text(0, 0.5, 'Average Regret')"
      ]
     },
     "execution_count": 10,
     "metadata": {},
     "output_type": "execute_result"
    },
    {
     "data": {
      "image/png": "[encoded data removed]",
      "text/plain": [
       "<Figure size 432x288 with 1 Axes>"
      ]
     },
     "metadata": {
      "needs_background": "light"
     },
     "output_type": "display_data"
    }
   ],
   "source": [
    "regret_values_linucb, linucb_agent = train('LinUCB')\n",
    "plt.plot(regret_values_linucb)\n",
    "plt.title('Regret over Timesteps LinUCB')\n",
    "plt.xlabel('Number of Iterations')\n",
    "plt.ylabel('Average Regret')"
   ]
  },
  {
   "cell_type": "code",
   "execution_count": 11,
   "metadata": {
    "colab": {
     "base_uri": "https://localhost:8080/"
    },
    "id": "s9_uNF-nHH36",
    "outputId": "fcd9f75e-2e02-400e-c615-4232b8a5bca1"
   },
   "outputs": [
    {
     "data": {
      "text/plain": [
       "<tf.Tensor: shape=(), dtype=float32, numpy=220.375>"
      ]
     },
     "execution_count": 11,
     "metadata": {},
     "output_type": "execute_result"
    }
   ],
   "source": [
    "sum(regret_values_linucb)"
   ]
  },
  {
   "cell_type": "code",
   "execution_count": 12,
   "metadata": {
    "colab": {
     "base_uri": "https://localhost:8080/",
     "height": 312
    },
    "id": "GCWNNymFMuv1",
    "outputId": "78a59ba7-a520-445c-d128-2d328db162d8"
   },
   "outputs": [
    {
     "data": {
      "text/plain": [
       "Text(0, 0.5, 'Average Regret')"
      ]
     },
     "execution_count": 12,
     "metadata": {},
     "output_type": "execute_result"
    },
    {
     "data": {
      "image/png": "[encoded data removed]",
      "text/plain": [
       "<Figure size 432x288 with 1 Axes>"
      ]
     },
     "metadata": {
      "needs_background": "light"
     },
     "output_type": "display_data"
    }
   ],
   "source": [
    "regret_values_lints, lints_agent = train('LinTS')\n",
    "plt.plot(regret_values_lints)\n",
    "plt.title('Regret over Timesteps LinTS')\n",
    "plt.xlabel('Number of Iterations')\n",
    "plt.ylabel('Average Regret')"
   ]
  },
  {
   "cell_type": "code",
   "execution_count": 13,
   "metadata": {
    "colab": {
     "base_uri": "https://localhost:8080/"
    },
    "id": "UyIyFOF4HLQc",
    "outputId": "47104a4c-b4b3-445b-e7ef-b268c8a9aef7"
   },
   "outputs": [
    {
     "data": {
      "text/plain": [
       "<tf.Tensor: shape=(), dtype=float32, numpy=71.375>"
      ]
     },
     "execution_count": 13,
     "metadata": {},
     "output_type": "execute_result"
    }
   ],
   "source": [
    "sum(regret_values_lints)"
   ]
  },
  {
   "cell_type": "code",
   "execution_count": 14,
   "metadata": {
    "colab": {
     "base_uri": "https://localhost:8080/",
     "height": 312
    },
    "id": "aBX-7qrMNaIK",
    "outputId": "0d3d3e57-5811-4f50-c4e5-cb5f53fd5b49"
   },
   "outputs": [
    {
     "data": {
      "text/plain": [
       "Text(0, 0.5, 'Average Regret')"
      ]
     },
     "execution_count": 14,
     "metadata": {},
     "output_type": "execute_result"
    },
    {
     "data": {
      "image/png": "[encoded data removed]",
      "text/plain": [
       "<Figure size 432x288 with 1 Axes>"
      ]
     },
     "metadata": {
      "needs_background": "light"
     },
     "output_type": "display_data"
    }
   ],
   "source": [
    "regret_values_neureps, neureps_agent = train('NeurEps')\n",
    "plt.plot(regret_values_neureps)\n",
    "plt.title('Regret over Timesteps NeurEps')\n",
    "plt.xlabel('Number of Iterations')\n",
    "plt.ylabel('Average Regret')"
   ]
  },
  {
   "cell_type": "code",
   "execution_count": 15,
   "metadata": {
    "colab": {
     "base_uri": "https://localhost:8080/"
    },
    "id": "H_qhKAyUHVUS",
    "outputId": "893237aa-6dd2-40cf-d65d-53469a6f5e6d"
   },
   "outputs": [
    {
     "data": {
      "text/plain": [
       "<tf.Tensor: shape=(), dtype=float32, numpy=641.5>"
      ]
     },
     "execution_count": 15,
     "metadata": {},
     "output_type": "execute_result"
    }
   ],
   "source": [
    "sum(regret_values_neureps)"
   ]
  },
  {
   "cell_type": "code",
   "execution_count": 16,
   "metadata": {
    "id": "zrY-_6q4HXeP"
   },
   "outputs": [],
   "source": [
    "def recommend_movies(agent, observation):\n",
    "    time_step = tf_agents.trajectories.time_step.TimeStep(\n",
    "        step_type=tf.constant([[2]], dtype=tf.int32),\n",
    "        reward=tf.constant([[0.0]], dtype=tf.float32),\n",
    "        discount=tf.constant([[1.0]], dtype=tf.float32),\n",
    "        observation=observation)\n",
    "    \n",
    "    action_step = agent.policy.action(time_step)\n",
    "    return action_step.action.numpy()[0]"
   ]
  },
  {
   "cell_type": "code",
   "execution_count": 17,
   "metadata": {
    "colab": {
     "base_uri": "https://localhost:8080/"
    },
    "id": "YtXEbpAOhqnq",
    "outputId": "84c1aea7-5e90-4d54-f751-34ee4474679b"
   },
   "outputs": [
    {
     "data": {
      "text/plain": [
       "13"
      ]
     },
     "execution_count": 17,
     "metadata": {},
     "output_type": "execute_result"
    }
   ],
   "source": [
    "observation = np.array([1, 25, 35, 0, 1, 0, 1, 0, 0, 1, 0, 0, 0, 0, 1, 1, 0, 0, 1, 1])\n",
    "observation = np.expand_dims(observation, axis=0)\n",
    "recommend_movies(lints_agent, observation=observation)"
   ]
  }
 ],
 "metadata": {
  "accelerator": "GPU",
  "colab": {
   "provenance": []
  },
  "gpuClass": "standard",
  "kernelspec": {
   "display_name": "Python 3 (ipykernel)",
   "language": "python",
   "name": "python3"
  },
  "language_info": {
   "codemirror_mode": {
    "name": "ipython",
    "version": 3
   },
   "file_extension": ".py",
   "mimetype": "text/x-python",
   "name": "python",
   "nbconvert_exporter": "python",
   "pygments_lexer": "ipython3",
   "version": "3.10.6"
  }
 },
 "nbformat": 4,
 "nbformat_minor": 1
}
