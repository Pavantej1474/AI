{
 "cells": [
  {
   "cell_type": "code",
   "execution_count": 3,
   "id": "6c790330-ff31-4bb4-8625-09947ee5c9b1",
   "metadata": {},
   "outputs": [],
   "source": [
    "import pandas as pd\n",
    "df1 = pd.read_csv('movies.csv')\n",
    "df2 = pd.read_csv('people.csv')\n",
    "df3 = pd.read_csv('stars.csv')\n",
    "\n",
    "df1.rename(columns = {'id':'movie_id'}, inplace = True)\n",
    "df2.rename(columns = {'id':'person_id'}, inplace = True)\n",
    "\n",
    "df = df3.merge(df1, on='movie_id', how='left').merge(df2, on='person_id', how='left')\n",
    "\n",
    "df = df.drop(['birth', 'person_id', 'movie_id'], axis = 1)\n",
    "df = df.sort_index(axis=1)\n",
    "df.to_csv('small.csv', index=False)"
   ]
  },
  {
   "cell_type": "code",
   "execution_count": 17,
   "id": "8751f10d",
   "metadata": {},
   "outputs": [
    {
     "data": {
      "text/html": [
       "<div>\n",
       "<style scoped>\n",
       "    .dataframe tbody tr th:only-of-type {\n",
       "        vertical-align: middle;\n",
       "    }\n",
       "\n",
       "    .dataframe tbody tr th {\n",
       "        vertical-align: top;\n",
       "    }\n",
       "\n",
       "    .dataframe thead th {\n",
       "        text-align: right;\n",
       "    }\n",
       "</style>\n",
       "<table border=\"1\" class=\"dataframe\">\n",
       "  <thead>\n",
       "    <tr style=\"text-align: right;\">\n",
       "      <th></th>\n",
       "      <th>name</th>\n",
       "      <th>title</th>\n",
       "      <th>year</th>\n",
       "    </tr>\n",
       "  </thead>\n",
       "  <tbody>\n",
       "    <tr>\n",
       "      <th>0</th>\n",
       "      <td>Kevin Bacon</td>\n",
       "      <td>A Few Good Men</td>\n",
       "      <td>1992</td>\n",
       "    </tr>\n",
       "    <tr>\n",
       "      <th>1</th>\n",
       "      <td>Kevin Bacon</td>\n",
       "      <td>Apollo 13</td>\n",
       "      <td>1995</td>\n",
       "    </tr>\n",
       "    <tr>\n",
       "      <th>2</th>\n",
       "      <td>Tom Cruise</td>\n",
       "      <td>A Few Good Men</td>\n",
       "      <td>1992</td>\n",
       "    </tr>\n",
       "    <tr>\n",
       "      <th>3</th>\n",
       "      <td>Tom Cruise</td>\n",
       "      <td>Rain Man</td>\n",
       "      <td>1988</td>\n",
       "    </tr>\n",
       "    <tr>\n",
       "      <th>4</th>\n",
       "      <td>Cary Elwes</td>\n",
       "      <td>The Princess Bride</td>\n",
       "      <td>1987</td>\n",
       "    </tr>\n",
       "  </tbody>\n",
       "</table>\n",
       "</div>"
      ],
      "text/plain": [
       "          name               title  year\n",
       "0  Kevin Bacon      A Few Good Men  1992\n",
       "1  Kevin Bacon           Apollo 13  1995\n",
       "2   Tom Cruise      A Few Good Men  1992\n",
       "3   Tom Cruise            Rain Man  1988\n",
       "4   Cary Elwes  The Princess Bride  1987"
      ]
     },
     "execution_count": 17,
     "metadata": {},
     "output_type": "execute_result"
    }
   ],
   "source": [
    "df.head()"
   ]
  },
  {
   "cell_type": "code",
   "execution_count": 12,
   "id": "d409c962-d979-4e22-962b-59188c888028",
   "metadata": {},
   "outputs": [],
   "source": [
    "\n",
    "\n",
    "# Find the shortest path between two actors using depth first search\n",
    "\n",
    "def dfs(data, start, end, path=None):\n",
    "    \n",
    "    if path is None:\n",
    "        path = [start]\n",
    "    if start == end:\n",
    "        return path\n",
    "    for actor in data[start]:\n",
    "        \n",
    "        if actor not in path:\n",
    "            new_path = dfs(data, actor, end, path + [actor])\n",
    "            if new_path is not None:\n",
    "                return new_path\n",
    "    return None\n",
    "\n",
    "\n",
    "def bfs(start, end, data):\n",
    "    visited = set()\n",
    "    queue = Queue()\n",
    "    queue.put((start, 0))\n",
    "    while not queue.empty():\n",
    "        actor, degree = queue.get()\n",
    "        if actor == end:\n",
    "            return degree\n",
    "        visited.add(actor)\n",
    "        for neighbor in data[actor]:\n",
    "            if neighbor not in visited:\n",
    "                queue.put((neighbor, degree + 1))\n",
    "    return None"
   ]
  },
  {
   "cell_type": "code",
   "execution_count": 16,
   "id": "e861e51c-9992-4f66-994a-aec353c5fd7f",
   "metadata": {},
   "outputs": [
    {
     "name": "stdout",
     "output_type": "stream",
     "text": [
      "4\n"
     ]
    }
   ],
   "source": [
    "import csv\n",
    "from queue import Queue\n",
    "\n",
    "# Load the data from the CSV file into a dictionary\n",
    "def load_data(filename):\n",
    "    data = {}\n",
    "    with open(filename, 'r') as file:\n",
    "        reader = csv.reader(file)\n",
    "        for row in reader:\n",
    "            actor = row[0]\n",
    "            movie = row[1]\n",
    "            if actor not in data:\n",
    "                data[actor] = set()\n",
    "            data[actor].add(movie)\n",
    "            if movie not in data:\n",
    "                data[movie] = set()\n",
    "            data[movie].add(actor)\n",
    "    return data\n",
    "\n",
    "# Load the data from the CSV file\n",
    "data = load_data('small.csv')\n",
    "\n",
    "# Find the shortest path between Kevin Bacon and Tom Hanks\n",
    "path = dfs(data, 'Robin Wright', 'Bill Paxton')\n",
    "\n",
    "# Print the shortest path\n",
    "if path is None:\n",
    "    print(\"No path found\")\n",
    "else:\n",
    "    print(path)\n",
    "    print(\" -> \".join(path))\n",
    "    print(f\"Degree of Separation->{len(path)-1}\")"
   ]
  },
  {
   "cell_type": "code",
   "execution_count": null,
   "id": "0b479e82",
   "metadata": {},
   "outputs": [],
   "source": []
  }
 ],
 "metadata": {
  "kernelspec": {
   "display_name": "Python 3 (ipykernel)",
   "language": "python",
   "name": "python3"
  },
  "language_info": {
   "codemirror_mode": {
    "name": "ipython",
    "version": 3
   },
   "file_extension": ".py",
   "mimetype": "text/x-python",
   "name": "python",
   "nbconvert_exporter": "python",
   "pygments_lexer": "ipython3",
   "version": "3.10.6"
  }
 },
 "nbformat": 4,
 "nbformat_minor": 5
}
