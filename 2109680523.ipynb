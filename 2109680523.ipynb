{
 "cells": [
  {
   "cell_type": "code",
   "execution_count": 2,
   "id": "9205f163",
   "metadata": {},
   "outputs": [],
   "source": [
    "import easyAI\n",
    "from easyAI import TwoPlayerGame\n",
    "from easyAI.Player import Human_Player\n",
    "from easyAI import AI_Player, Negamax\n",
    "from easyAI import solve_with_iterative_deepening, solve_with_depth_first_search\n",
    "import time"
   ]
  },
  {
   "cell_type": "code",
   "execution_count": 3,
   "id": "e3a9cb35",
   "metadata": {},
   "outputs": [],
   "source": [
    "class TicTacToe( TwoPlayerGame ):   \n",
    "    def __init__(self, players):\n",
    "        self.players = players\n",
    "        self.board = [0 for i in range(9)]\n",
    "        self.nplayer = 1\n",
    "        self.nopponent = 3-self.nplayer\n",
    "        self.current_player=1\n",
    "        \n",
    "    def possible_moves(self):\n",
    "        return [i+1 for i,e in enumerate(self.board) if e==0]\n",
    "    \n",
    "    def make_move(self, move):\n",
    "        self.board[int(move)-1] = self.nplayer\n",
    "        self.nplayer=3-self.nplayer\n",
    "    \n",
    "    def lose(self):\n",
    "        \n",
    "        return any( [all([(self.board[c-1]== self.current_player)\n",
    "                      for c in line])\n",
    "                      for line in [[1,2,3],[4,5,6],[7,8,9], # horiz.\n",
    "                                   [1,4,7],[2,5,8],[3,6,9], # vertical\n",
    "                                   [1,5,9],[3,5,7]]]) # diagonal\n",
    "        \n",
    "    def is_over(self):\n",
    "        return (self.possible_moves() == []) or self.lose()\n",
    "        \n",
    "    def show(self):\n",
    "        print ('\\n'+'\\n'.join([\n",
    "                        ' '.join([['.','O','X'][self.board[3*j+i]]\n",
    "                        for i in range(3)])\n",
    "                 for j in range(3)]) )\n",
    "                 \n",
    "    def scoring(self):\n",
    "        return -100 if self.lose() else 0"
   ]
  },
  {
   "cell_type": "code",
   "execution_count": 4,
   "id": "13b71f7f",
   "metadata": {},
   "outputs": [],
   "source": [
    "def main(algo):\n",
    "    ai = Negamax(9)\n",
    "    if algo == 'id':\n",
    "        result = solve_with_iterative_deepening(game=TicTacToe(players=[AI_Player(ai), Human_Player()]), ai_depths=range(2, 10), win_score=100)\n",
    "    elif algo == 'dfs':\n",
    "        result = solve_with_depth_first_search(game=TicTacToe(players=[AI_Player(ai), Human_Player()]), win_score=100)\n",
    "    else:\n",
    "        print(\"Invalid algorithm.\")\n",
    "    return result"
   ]
  },
  {
   "cell_type": "code",
   "execution_count": 23,
   "id": "d4bccfc3",
   "metadata": {},
   "outputs": [
    {
     "name": "stdout",
     "output_type": "stream",
     "text": [
      "d:2, a:0, m:1\n",
      "d:3, a:0, m:1\n",
      "d:4, a:0, m:1\n",
      "d:5, a:0, m:1\n",
      "d:6, a:0, m:1\n",
      "d:7, a:0, m:1\n",
      "d:8, a:0, m:1\n",
      "d:9, a:0, m:1\n",
      "Result:  (0, 9, 1)\n",
      "Time Taken: 0.62s\n"
     ]
    }
   ],
   "source": [
    "def main(algo):\n",
    "    ai = Negamax(9)\n",
    "    if algo == 'id':\n",
    "        result = solve_with_iterative_deepening(game=TicTacToe(players=[AI_Player(ai), Human_Player()]),\n",
    "                                                ai_depths=range(2, 10), win_score=100)\n",
    "    elif algo == 'dfs':\n",
    "        result = solve_with_depth_first_search(game=TicTacToe(players=[AI_Player(ai), Human_Player()])\n",
    "                                               , win_score=100)\n",
    "    else:\n",
    "        print(\"Invalid algorithm.\")\n",
    "    return result\n",
    "\n",
    "start = time.time()\n",
    "idres = main('id')\n",
    "end = time.time()\n",
    "print('Result: ', idres)\n",
    "print(str.format('Time Taken: {:.2f}s', end-start))\n",
    "\n",
    "start = time.time()\n",
    "dfsres = main('dfs')\n",
    "end = time.time()\n",
    "print('Result: ', dfsres)\n",
    "print(str.format('Time Taken: {:.2f}s', end-start))\n",
    "\n",
    "ai_algo = Negamax(9)\n",
    "TicTacToe( [Human_Player(),AI_Player(ai_algo)]).play()\n",
    "\n",
    "TicTacToe( [Human_Player(),Human_Player()]).play()"
   ]
  },
  {
   "cell_type": "code",
   "execution_count": 24,
   "id": "756550f2",
   "metadata": {},
   "outputs": [
    {
     "name": "stdout",
     "output_type": "stream",
     "text": [
      "Result:  0\n",
      "Time Taken: 20.38s\n"
     ]
    }
   ],
   "source": [
    "start = time.time()\n",
    "dfsres = main('dfs')\n",
    "end = time.time()\n",
    "print('Result: ', dfsres)\n",
    "print(str.format('Time Taken: {:.2f}s', end-start))"
   ]
  },
  {
   "cell_type": "code",
   "execution_count": 5,
   "id": "7a0f2cdf",
   "metadata": {},
   "outputs": [
    {
     "name": "stdout",
     "output_type": "stream",
     "text": [
      "\n",
      ". . .\n",
      ". . .\n",
      ". . .\n",
      "\n",
      "Player 1 what do you play ? 3\n",
      "\n",
      "Move #1: player 1 plays 3 :\n",
      "\n",
      ". . O\n",
      ". . .\n",
      ". . .\n",
      "\n",
      "Move #2: player 2 plays 1 :\n",
      "\n",
      "X . O\n",
      ". . .\n",
      ". . .\n",
      "\n",
      "Player 1 what do you play ? 7\n",
      "\n",
      "Move #3: player 1 plays 7 :\n",
      "\n",
      "X . O\n",
      ". . .\n",
      "O . .\n",
      "\n",
      "Move #4: player 2 plays 2 :\n",
      "\n",
      "X X O\n",
      ". . .\n",
      "O . .\n",
      "\n",
      "Player 1 what do you play ? 5\n",
      "\n",
      "Move #5: player 1 plays 5 :\n",
      "\n",
      "X X O\n",
      ". O .\n",
      "O . .\n",
      "\n",
      "Move #6: player 2 plays 4 :\n",
      "\n",
      "X X O\n",
      "X O .\n",
      "O . .\n"
     ]
    },
    {
     "data": {
      "text/plain": [
       "[(<__main__.TicTacToe at 0x1e4bf718940>, 3),\n",
       " (<__main__.TicTacToe at 0x1e4be6236d0>, 1),\n",
       " (<__main__.TicTacToe at 0x1e4bf70cfa0>, 7),\n",
       " (<__main__.TicTacToe at 0x1e4bf859670>, 2),\n",
       " (<__main__.TicTacToe at 0x1e4bf718a30>, 5),\n",
       " (<__main__.TicTacToe at 0x1e4c015e9a0>, 4),\n",
       " <__main__.TicTacToe at 0x1e4c015d550>]"
      ]
     },
     "execution_count": 5,
     "metadata": {},
     "output_type": "execute_result"
    }
   ],
   "source": [
    "ai_algo = Negamax(9)\n",
    "TicTacToe( [Human_Player(),AI_Player(ai_algo)]).play()"
   ]
  },
  {
   "cell_type": "code",
   "execution_count": 19,
   "id": "23c8b15d",
   "metadata": {},
   "outputs": [
    {
     "name": "stdout",
     "output_type": "stream",
     "text": [
      "\n",
      ". . .\n",
      ". . .\n",
      ". . .\n",
      "\n",
      "Player 1 what do you play ? 1\n",
      "\n",
      "Move #1: player 1 plays 1 :\n",
      "\n",
      "O . .\n",
      ". . .\n",
      ". . .\n",
      "\n",
      "Player 2 what do you play ? 5\n",
      "\n",
      "Move #2: player 2 plays 5 :\n",
      "\n",
      "O . .\n",
      ". X .\n",
      ". . .\n",
      "\n",
      "Player 1 what do you play ? 3\n",
      "\n",
      "Move #3: player 1 plays 3 :\n",
      "\n",
      "O . O\n",
      ". X .\n",
      ". . .\n",
      "\n",
      "Player 2 what do you play ? 2\n",
      "\n",
      "Move #4: player 2 plays 2 :\n",
      "\n",
      "O X O\n",
      ". X .\n",
      ". . .\n",
      "\n",
      "Player 1 what do you play ? 8\n",
      "\n",
      "Move #5: player 1 plays 8 :\n",
      "\n",
      "O X O\n",
      ". X .\n",
      ". O .\n",
      "\n",
      "Player 2 what do you play ? 6\n",
      "\n",
      "Move #6: player 2 plays 6 :\n",
      "\n",
      "O X O\n",
      ". X X\n",
      ". O .\n",
      "\n",
      "Player 1 what do you play ? 4\n",
      "\n",
      "Move #7: player 1 plays 4 :\n",
      "\n",
      "O X O\n",
      "O X X\n",
      ". O .\n",
      "\n",
      "Player 2 what do you play ? 7\n",
      "\n",
      "Move #8: player 2 plays 7 :\n",
      "\n",
      "O X O\n",
      "O X X\n",
      "X O .\n",
      "\n",
      "Player 1 what do you play ? 9\n",
      "\n",
      "Move #9: player 1 plays 9 :\n",
      "\n",
      "O X O\n",
      "O X X\n",
      "X O O\n"
     ]
    },
    {
     "data": {
      "text/plain": [
       "[(<__main__.TicTacToe at 0x236865e0790>, 1),\n",
       " (<__main__.TicTacToe at 0x236870731c0>, 5),\n",
       " (<__main__.TicTacToe at 0x236865e04c0>, 3),\n",
       " (<__main__.TicTacToe at 0x23687079280>, 2),\n",
       " (<__main__.TicTacToe at 0x23687079b80>, 8),\n",
       " (<__main__.TicTacToe at 0x23687079760>, 6),\n",
       " (<__main__.TicTacToe at 0x23687079940>, 4),\n",
       " (<__main__.TicTacToe at 0x23687079b20>, 7),\n",
       " (<__main__.TicTacToe at 0x23687079fd0>, 9),\n",
       " <__main__.TicTacToe at 0x23687027070>]"
      ]
     },
     "execution_count": 19,
     "metadata": {},
     "output_type": "execute_result"
    }
   ],
   "source": [
    "TicTacToe( [Human_Player(),Human_Player()]).play()"
   ]
  }
 ],
 "metadata": {
  "kernelspec": {
   "display_name": "Python 3 (ipykernel)",
   "language": "python",
   "name": "python3"
  },
  "language_info": {
   "codemirror_mode": {
    "name": "ipython",
    "version": 3
   },
   "file_extension": ".py",
   "mimetype": "text/x-python",
   "name": "python",
   "nbconvert_exporter": "python",
   "pygments_lexer": "ipython3",
   "version": "3.10.6"
  }
 },
 "nbformat": 4,
 "nbformat_minor": 5
}
